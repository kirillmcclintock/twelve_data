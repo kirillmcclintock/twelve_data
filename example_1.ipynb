{
 "cells": [
  {
   "cell_type": "code",
   "execution_count": 3,
   "metadata": {},
   "outputs": [
    {
     "name": "stdout",
     "output_type": "stream",
     "text": [
      "               open     high      low    close\n",
      "datetime                                      \n",
      "2023-04-04  1.08960  1.09730  1.08830  1.09540\n",
      "2023-04-03  1.08420  1.09170  1.07890  1.08980\n",
      "2023-03-31  1.09070  1.09260  1.08430  1.08455\n",
      "2023-03-30  1.08400  1.09270  1.08240  1.09070\n",
      "2023-03-29  1.08470  1.08715  1.08180  1.08390\n",
      "...             ...      ...      ...      ...\n",
      "2021-11-16  1.13680  1.13865  1.13090  1.13190\n",
      "2021-11-15  1.14520  1.14645  1.13555  1.13670\n",
      "2021-11-12  1.14540  1.14625  1.14325  1.14500\n",
      "2021-11-11  1.14820  1.14885  1.14425  1.14500\n",
      "2021-11-10  1.15925  1.15965  1.14755  1.14780\n",
      "\n",
      "[365 rows x 4 columns]\n"
     ]
    }
   ],
   "source": [
    "from twelvedata import TDClient\n",
    "\n",
    "td = TDClient(apikey=\"foo\")\n",
    "\n",
    "ts = td.time_series(\n",
    "    symbol=\"EUR/USD\",\n",
    "    interval=\"1day\",\n",
    "    outputsize=\"365\"\n",
    ").as_pandas()\n",
    "\n",
    "print(ts)\n"
   ]
  }
 ],
 "metadata": {
  "kernelspec": {
   "display_name": "Python 3",
   "language": "python",
   "name": "python3"
  },
  "language_info": {
   "codemirror_mode": {
    "name": "ipython",
    "version": 3
   },
   "file_extension": ".py",
   "mimetype": "text/x-python",
   "name": "python",
   "nbconvert_exporter": "python",
   "pygments_lexer": "ipython3",
   "version": "3.10.8"
  },
  "orig_nbformat": 4
 },
 "nbformat": 4,
 "nbformat_minor": 2
}
