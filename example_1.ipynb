{
 "cells": [
  {
   "cell_type": "code",
   "execution_count": 4,
   "metadata": {},
   "outputs": [
    {
     "name": "stdout",
     "output_type": "stream",
     "text": [
      "              open     high      low    close\n",
      "datetime                                     \n",
      "2023-04-06  1.0905  1.09110  1.08845  1.08890\n",
      "2023-04-05  1.0953  1.09700  1.08910  1.09080\n",
      "2023-04-04  1.0896  1.09730  1.08830  1.09530\n",
      "2023-04-03  1.0842  1.09170  1.07890  1.08980\n",
      "2023-03-31  1.0907  1.09260  1.08430  1.08455\n",
      "...            ...      ...      ...      ...\n",
      "2021-11-18  1.1319  1.13750  1.13135  1.13690\n",
      "2021-11-17  1.1321  1.13330  1.12635  1.13190\n",
      "2021-11-16  1.1368  1.13865  1.13090  1.13190\n",
      "2021-11-15  1.1452  1.14645  1.13555  1.13670\n",
      "2021-11-12  1.1454  1.14625  1.14325  1.14500\n",
      "\n",
      "[365 rows x 4 columns]\n"
     ]
    }
   ],
   "source": [
    "from twelvedata import TDClient\n",
    "import os\n",
    "\n",
    "td = TDClient(os.getenv('TD_API'))\n",
    "\n",
    "ts = td.time_series(\n",
    "    symbol=\"EUR/USD\",\n",
    "    interval=\"1day\",\n",
    "    outputsize=\"365\"\n",
    ").as_pandas()\n",
    "\n",
    "print(ts)\n"
   ]
  }
 ],
 "metadata": {
  "kernelspec": {
   "display_name": "Python 3",
   "language": "python",
   "name": "python3"
  },
  "language_info": {
   "codemirror_mode": {
    "name": "ipython",
    "version": 3
   },
   "file_extension": ".py",
   "mimetype": "text/x-python",
   "name": "python",
   "nbconvert_exporter": "python",
   "pygments_lexer": "ipython3",
   "version": "3.10.8"
  },
  "orig_nbformat": 4
 },
 "nbformat": 4,
 "nbformat_minor": 2
}
