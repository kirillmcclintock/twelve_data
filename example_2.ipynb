{
 "cells": [
  {
   "cell_type": "code",
   "execution_count": 1,
   "metadata": {},
   "outputs": [
    {
     "name": "stdout",
     "output_type": "stream",
     "text": [
      "               open     high      low    close\n",
      "datetime                                      \n",
      "2023-04-06  1.09050  1.09110  1.08845  1.08890\n",
      "2023-04-05  1.09530  1.09700  1.08910  1.09080\n",
      "2023-04-04  1.08960  1.09730  1.08830  1.09530\n",
      "2023-04-03  1.08420  1.09170  1.07890  1.08980\n",
      "2023-03-31  1.09070  1.09260  1.08430  1.08455\n",
      "2023-03-30  1.08400  1.09270  1.08240  1.09070\n",
      "2023-03-29  1.08470  1.08715  1.08180  1.08390\n",
      "2023-03-28  1.07970  1.08490  1.07950  1.08480\n",
      "2023-03-27  1.07755  1.07990  1.07450  1.07980\n",
      "2023-03-24  1.08400  1.08410  1.07150  1.07585\n",
      "2023-03-23  1.08650  1.09300  1.08250  1.08410\n",
      "2023-03-22  1.07690  1.09130  1.07590  1.08660\n",
      "2023-03-21  1.07240  1.07880  1.07040  1.07690\n",
      "2023-03-20  1.06840  1.07310  1.06320  1.07230\n",
      "2023-03-17  1.06145  1.06855  1.06055  1.06615\n",
      "2023-03-16  1.05800  1.06360  1.05510  1.06130\n",
      "2023-03-15  1.07420  1.07600  1.05175  1.05795\n",
      "2023-03-14  1.07295  1.07490  1.06790  1.07420\n",
      "2023-03-13  1.06635  1.07490  1.06520  1.07295\n",
      "2023-03-10  1.05760  1.07010  1.05730  1.06440\n",
      "2023-03-09  1.05460  1.05910  1.05380  1.05770\n",
      "2023-03-08  1.05515  1.05740  1.05250  1.05460\n",
      "2023-03-07  1.06755  1.06945  1.05460  1.05510\n",
      "2023-03-06  1.06190  1.06945  1.06155  1.06760\n",
      "2023-03-03  1.05910  1.06360  1.05865  1.06360\n",
      "2023-03-02  1.06580  1.06730  1.05760  1.05910\n",
      "2023-03-01  1.05835  1.06920  1.05655  1.06565\n",
      "2023-02-28  1.06080  1.06450  1.05820  1.05840\n",
      "2023-02-27  1.05490  1.06195  1.05330  1.06090\n",
      "2023-02-24  1.05960  1.06145  1.05365  1.05510\n"
     ]
    }
   ],
   "source": [
    "import requests\n",
    "import pandas as pd\n",
    "import os\n",
    "\n",
    "url = \"https://api.twelvedata.com/time_series\"\n",
    "symbol = \"EUR/USD\"\n",
    "interval = \"1day\"\n",
    "apikey = os.environ.get('TD_API')\n",
    "\n",
    "def concat(url, symbol, interval, apikey):\n",
    "    request = url + \"?symbol=\" + symbol + \"&interval=\" + interval + \"&apikey=\" + apikey\n",
    "    return request\n",
    "\n",
    "r = requests.get(concat(url, symbol, interval, apikey))\n",
    "\n",
    "df = pd.json_normalize(r.json()['values'])\n",
    "df.set_index('datetime', inplace=True)\n",
    "print(df)"
   ]
  }
 ],
 "metadata": {
  "kernelspec": {
   "display_name": "Python 3",
   "language": "python",
   "name": "python3"
  },
  "language_info": {
   "codemirror_mode": {
    "name": "ipython",
    "version": 3
   },
   "file_extension": ".py",
   "mimetype": "text/x-python",
   "name": "python",
   "nbconvert_exporter": "python",
   "pygments_lexer": "ipython3",
   "version": "3.10.8"
  },
  "orig_nbformat": 4
 },
 "nbformat": 4,
 "nbformat_minor": 2
}
