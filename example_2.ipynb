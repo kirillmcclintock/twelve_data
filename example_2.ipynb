{
 "cells": [
  {
   "cell_type": "code",
   "execution_count": 11,
   "metadata": {},
   "outputs": [
    {
     "name": "stdout",
     "output_type": "stream",
     "text": [
      "[{'datetime': '2023-04-04', 'open': '1.08960', 'high': '1.09730', 'low': '1.08830', 'close': '1.09570'}, {'datetime': '2023-04-03', 'open': '1.08420', 'high': '1.09170', 'low': '1.07890', 'close': '1.08980'}, {'datetime': '2023-03-31', 'open': '1.09070', 'high': '1.09260', 'low': '1.08430', 'close': '1.08455'}, {'datetime': '2023-03-30', 'open': '1.08400', 'high': '1.09270', 'low': '1.08240', 'close': '1.09070'}, {'datetime': '2023-03-29', 'open': '1.08470', 'high': '1.08715', 'low': '1.08180', 'close': '1.08390'}, {'datetime': '2023-03-28', 'open': '1.07970', 'high': '1.08490', 'low': '1.07950', 'close': '1.08480'}, {'datetime': '2023-03-27', 'open': '1.07755', 'high': '1.07990', 'low': '1.07450', 'close': '1.07980'}, {'datetime': '2023-03-24', 'open': '1.08400', 'high': '1.08410', 'low': '1.07150', 'close': '1.07585'}, {'datetime': '2023-03-23', 'open': '1.08650', 'high': '1.09300', 'low': '1.08250', 'close': '1.08410'}, {'datetime': '2023-03-22', 'open': '1.07690', 'high': '1.09130', 'low': '1.07590', 'close': '1.08660'}, {'datetime': '2023-03-21', 'open': '1.07240', 'high': '1.07880', 'low': '1.07040', 'close': '1.07690'}, {'datetime': '2023-03-20', 'open': '1.06840', 'high': '1.07310', 'low': '1.06320', 'close': '1.07230'}, {'datetime': '2023-03-17', 'open': '1.06145', 'high': '1.06855', 'low': '1.06055', 'close': '1.06615'}, {'datetime': '2023-03-16', 'open': '1.05800', 'high': '1.06360', 'low': '1.05510', 'close': '1.06130'}, {'datetime': '2023-03-15', 'open': '1.07420', 'high': '1.07600', 'low': '1.05175', 'close': '1.05795'}, {'datetime': '2023-03-14', 'open': '1.07295', 'high': '1.07490', 'low': '1.06790', 'close': '1.07420'}, {'datetime': '2023-03-13', 'open': '1.06635', 'high': '1.07490', 'low': '1.06520', 'close': '1.07295'}, {'datetime': '2023-03-10', 'open': '1.05760', 'high': '1.07010', 'low': '1.05730', 'close': '1.06440'}, {'datetime': '2023-03-09', 'open': '1.05460', 'high': '1.05910', 'low': '1.05380', 'close': '1.05770'}, {'datetime': '2023-03-08', 'open': '1.05515', 'high': '1.05740', 'low': '1.05250', 'close': '1.05460'}, {'datetime': '2023-03-07', 'open': '1.06755', 'high': '1.06945', 'low': '1.05460', 'close': '1.05510'}, {'datetime': '2023-03-06', 'open': '1.06190', 'high': '1.06945', 'low': '1.06155', 'close': '1.06760'}, {'datetime': '2023-03-03', 'open': '1.05910', 'high': '1.06360', 'low': '1.05865', 'close': '1.06360'}, {'datetime': '2023-03-02', 'open': '1.06580', 'high': '1.06730', 'low': '1.05760', 'close': '1.05910'}, {'datetime': '2023-03-01', 'open': '1.05835', 'high': '1.06920', 'low': '1.05655', 'close': '1.06565'}, {'datetime': '2023-02-28', 'open': '1.06080', 'high': '1.06450', 'low': '1.05820', 'close': '1.05840'}, {'datetime': '2023-02-27', 'open': '1.05490', 'high': '1.06195', 'low': '1.05330', 'close': '1.06090'}, {'datetime': '2023-02-24', 'open': '1.05960', 'high': '1.06145', 'low': '1.05365', 'close': '1.05510'}, {'datetime': '2023-02-23', 'open': '1.06020', 'high': '1.06280', 'low': '1.05780', 'close': '1.05950'}, {'datetime': '2023-02-22', 'open': '1.06490', 'high': '1.06640', 'low': '1.06005', 'close': '1.06010'}]\n"
     ]
    }
   ],
   "source": [
    "import requests\n",
    "import pandas as pd\n",
    "\n",
    "url = \"https://api.twelvedata.com/time_series\"\n",
    "symbol = \"EUR/USD\"\n",
    "interval = \"1day\"\n",
    "apikey = \"foo\"\n",
    "\n",
    "def concat(url, symbol, interval, apikey):\n",
    "    request = url + \"?symbol=\" + symbol + \"&interval=\" + interval + \"&apikey=\" + apikey\n",
    "    return request\n",
    "\n",
    "r = requests.get(concat(url, symbol, interval, apikey))\n",
    "\n",
    "data = r.json()['values']\n",
    "print(data)\n",
    "#2023-04-04 got stuck at this point.  will work on converting this json data to a pandas dataframe next\n"
   ]
  }
 ],
 "metadata": {
  "kernelspec": {
   "display_name": "Python 3",
   "language": "python",
   "name": "python3"
  },
  "language_info": {
   "codemirror_mode": {
    "name": "ipython",
    "version": 3
   },
   "file_extension": ".py",
   "mimetype": "text/x-python",
   "name": "python",
   "nbconvert_exporter": "python",
   "pygments_lexer": "ipython3",
   "version": "3.10.8"
  },
  "orig_nbformat": 4
 },
 "nbformat": 4,
 "nbformat_minor": 2
}
